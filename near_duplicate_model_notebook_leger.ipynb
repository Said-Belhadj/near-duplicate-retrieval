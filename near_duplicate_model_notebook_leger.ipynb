{
  "cells": [
    {
      "cell_type": "markdown",
      "metadata": {
        "id": "xMLv2LFAmH85"
      },
      "source": [
        "# Near Duplicate Retrieval : For Historical Images"
      ]
    },
    {
      "cell_type": "markdown",
      "metadata": {
        "id": "qVqI3R8qmI4j"
      },
      "source": [
        "## Imports"
      ]
    },
    {
      "cell_type": "code",
      "execution_count": null,
      "metadata": {
        "id": "UbvMnBBHmOpg"
      },
      "outputs": [],
      "source": [
        "import zipfile\n",
        "import os\n",
        "import pandas as pd\n",
        "import math\n",
        "from PIL import Image\n",
        "import shutil\n",
        "import matplotlib.pyplot as plt\n",
        "import csv\n",
        "\n",
        "import torch\n",
        "import torch.nn as nn\n",
        "import torchvision.transforms as transforms\n",
        "from torchvision.transforms import RandomApply, GaussianBlur\n",
        "import torchvision.models as models\n",
        "from sklearn.decomposition import PCA\n",
        "import numpy as np\n",
        "from sklearn.model_selection import train_test_split\n",
        "import torch.optim as optim\n",
        "from torch.utils.data import DataLoader, Dataset\n",
        "from sklearn.metrics import ndcg_score\n",
        "from scipy.spatial.distance import cosine\n",
        "\n",
        "import random\n",
        "from tqdm import tqdm"
      ]
    },
    {
      "cell_type": "code",
      "execution_count": null,
      "metadata": {
        "colab": {
          "base_uri": "https://localhost:8080/"
        },
        "id": "Dr82NFqsFgT6",
        "outputId": "4764060d-89a9-4451-ce2f-f376cf5a853e"
      },
      "outputs": [
        {
          "name": "stdout",
          "output_type": "stream",
          "text": [
            "Mounted at /content/drive\n"
          ]
        }
      ],
      "source": [
        "from google.colab import drive\n",
        "drive.mount('/content/drive', force_remount=True)"
      ]
    },
    {
      "cell_type": "markdown",
      "metadata": {
        "id": "XzVcupMLmVS9"
      },
      "source": [
        "## Data prep"
      ]
    },
    {
      "cell_type": "code",
      "execution_count": null,
      "metadata": {
        "id": "Pm1hUvS4mUpR"
      },
      "outputs": [],
      "source": [
        "root_folder = '/content/drive/MyDrive/projet/'\n",
        "destination_folder = '/content/drive/MyDrive/near-duplicate-project/test_dataset/'\n",
        "xlsx_file = root_folder + \"new_IS.xlsx\"\n",
        "image_folder = root_folder + \"test_dataset/\""
      ]
    },
    {
      "cell_type": "markdown",
      "metadata": {
        "id": "8ZdTJAFTmghb"
      },
      "source": [
        "Chaque ligne du fichier Excel ```new_IS.xlsx``` représente, dans la première colonne, un fichier original et ses \"near duplicates\". Je vais construire mon dataset en plaçant le fichier original et tous ses near duplicates dans le même sous-dossier."
      ]
    },
    {
      "cell_type": "code",
      "execution_count": null,
      "metadata": {
        "colab": {
          "base_uri": "https://localhost:8080/"
        },
        "id": "qckgnNG8mgor",
        "outputId": "d37bb231-cdfa-491b-c3b0-64b48f121cef"
      },
      "outputs": [
        {
          "name": "stdout",
          "output_type": "stream",
          "text": [
            "Dataset créé avec succès.\n"
          ]
        }
      ],
      "source": [
        "df = pd.read_excel(xlsx_file, header=None)\n",
        "\n",
        "# Vérifier si le dossier de destination existe, sinon le créer\n",
        "if not os.path.exists(destination_folder):\n",
        "    os.makedirs(destination_folder)\n",
        "\n",
        "# Parcourir chaque ligne du DataFrame\n",
        "for index, row in df.iterrows():\n",
        "    # Utiliser l'index de la ligne comme nom de classe\n",
        "    nom_classe = f'classe_{index + 1}'\n",
        "\n",
        "    # Créer un sous-dossier pour la classe si ce n'est pas déjà fait\n",
        "    chemin_classe = os.path.join(destination_folder, nom_classe)\n",
        "    if not os.path.exists(chemin_classe):\n",
        "        os.makedirs(chemin_classe)\n",
        "\n",
        "    # Copier les images associées de image_folder vers le sous-dossier de la classe\n",
        "    for image_name in row.dropna():  # Ignorer les valeurs NaN\n",
        "        source_image_path = os.path.join(image_folder, image_name)\n",
        "        destination_image_path = os.path.join(chemin_classe, image_name)\n",
        "\n",
        "        if os.path.exists(source_image_path):\n",
        "            shutil.copy(source_image_path, destination_image_path)\n",
        "        else:\n",
        "            print(f\"Image {image_name} not found in {image_folder}\")\n",
        "\n",
        "print(\"Dataset créé avec succès.\")"
      ]
    },
    {
      "cell_type": "code",
      "execution_count": null,
      "metadata": {
        "colab": {
          "base_uri": "https://localhost:8080/"
        },
        "id": "zHXq_7lwh9nn",
        "outputId": "3c9834dc-515d-4d5a-8c6b-a967af736bfa"
      },
      "outputs": [
        {
          "name": "stdout",
          "output_type": "stream",
          "text": [
            "274\n"
          ]
        }
      ],
      "source": [
        "def count_images_in_folder(folder_path):\n",
        "    total_images = 0\n",
        "    for root, dirs, files in os.walk(folder_path):\n",
        "        image_count = sum(1 for file in files if file.lower().endswith(('.png', '.jpg', '.jpeg')))\n",
        "        #print(f\"Nombre d'images dans {root}: {image_count}\")\n",
        "        total_images += image_count\n",
        "    return total_images\n",
        "\n",
        "print(count_images_in_folder('/content/drive/MyDrive/near-duplicate-project/test_dataset'))"
      ]
    },
    {
      "cell_type": "markdown",
      "metadata": {
        "id": "mRxMe6LQn40W"
      },
      "source": [
        "J'ai ensuite créé un dataset augmenté où j'ai séparé mon dataset en 3 parties : train 70 %, validation 18 % et test 12 %"
      ]
    },
    {
      "cell_type": "code",
      "execution_count": null,
      "metadata": {
        "colab": {
          "base_uri": "https://localhost:8080/"
        },
        "id": "kXDp-Gj5drYa",
        "outputId": "4361fb11-7fe0-4367-e525-03d9e53c57c4"
      },
      "outputs": [
        {
          "name": "stdout",
          "output_type": "stream",
          "text": [
            "Data augmentation complete.\n"
          ]
        }
      ],
      "source": [
        "import os\n",
        "import cv2\n",
        "import numpy as np\n",
        "from PIL import Image, ImageEnhance\n",
        "from torchvision import transforms\n",
        "import torch\n",
        "import random\n",
        "\n",
        "# Define augmentation transformations\n",
        "transform_list = [\n",
        "    transforms.Grayscale(num_output_channels=3),\n",
        "    transforms.RandomHorizontalFlip(),\n",
        "    transforms.Resize(256),\n",
        "    transforms.CenterCrop(224),\n",
        "    transforms.ToTensor()\n",
        "]\n",
        "\n",
        "# Custom function to add noise\n",
        "def add_noise(image):\n",
        "    image_array = np.array(image)\n",
        "    noise = np.random.normal(0, 25, image_array.shape)\n",
        "    noisy_image = image_array + noise\n",
        "    noisy_image = np.clip(noisy_image, 0, 255).astype(np.uint8)\n",
        "    return Image.fromarray(noisy_image)\n",
        "\n",
        "# Custom function to apply affine transformations\n",
        "def affine_transform(image):\n",
        "    rows, cols = image.size\n",
        "    pts1 = np.float32([[50, 50], [200, 50], [50, 200]])\n",
        "    pts2 = np.float32([[10, 100], [200, 50], [100, 250]])\n",
        "    M = cv2.getAffineTransform(pts1, pts2)\n",
        "    dst = cv2.warpAffine(np.array(image), M, (cols, rows))\n",
        "    return Image.fromarray(dst)\n",
        "\n",
        "# Custom function to apply erosion and dilation\n",
        "def erode_dilate(image):\n",
        "    image_array = np.array(image)\n",
        "    kernel = np.ones((3, 3), np.uint8)\n",
        "    eroded = cv2.erode(image_array, kernel, iterations=1)\n",
        "    dilated = cv2.dilate(eroded, kernel, iterations=1)\n",
        "    return Image.fromarray(dilated)\n",
        "\n",
        "# Compose transformations\n",
        "transform = transforms.Compose(transform_list)\n",
        "\n",
        "# Paths\n",
        "source_dir = '/content/drive/MyDrive/near-duplicate-project/test_dataset'\n",
        "target_dir = '/content/drive/MyDrive/near-duplicate-project/dataset_final'\n",
        "\n",
        "# Number of augmentations per image\n",
        "num_augmentations = 8\n",
        "\n",
        "# Create target directory if it doesn't exist\n",
        "if not os.path.exists(target_dir):\n",
        "    os.makedirs(target_dir)\n",
        "\n",
        "# Function to apply all transformations\n",
        "def augment_image(image):\n",
        "    # Convert to grayscale and apply basic transformations\n",
        "    image = transform(image)\n",
        "    image = transforms.ToPILImage()(image)\n",
        "\n",
        "    # Randomly apply additional custom transformations\n",
        "    if random.random() > 0.5:\n",
        "        image = ImageEnhance.Brightness(image).enhance(random.uniform(0.3, 1.5))\n",
        "    if random.random() > 0.5:\n",
        "        image = add_noise(image)\n",
        "    if random.random() > 0.5:\n",
        "        image = affine_transform(image)\n",
        "    if random.random() > 0.5:\n",
        "        image = erode_dilate(image)\n",
        "\n",
        "    return image\n",
        "\n",
        "# Process each image in the dataset\n",
        "for subdir, dirs, files in os.walk(source_dir):\n",
        "    for file in files:\n",
        "        if file.lower().endswith(('.png', '.jpg', '.jpeg')):\n",
        "            image_path = os.path.join(subdir, file)\n",
        "            image = Image.open(image_path).convert('RGB')\n",
        "\n",
        "            # Augment the image multiple times\n",
        "            for i in range(num_augmentations):  # Number of augmentations per image\n",
        "                augmented_image = augment_image(image)\n",
        "                target_subdir = subdir.replace(source_dir, target_dir)\n",
        "                if not os.path.exists(target_subdir):\n",
        "                    os.makedirs(target_subdir)\n",
        "\n",
        "                base, ext = os.path.splitext(file)\n",
        "                augmented_image_path = os.path.join(target_subdir, f\"{base}_aug_{i}{ext}\")\n",
        "                augmented_image.save(augmented_image_path)\n",
        "\n",
        "print(\"Data augmentation complete.\")\n"
      ]
    },
    {
      "cell_type": "code",
      "execution_count": null,
      "metadata": {
        "colab": {
          "base_uri": "https://localhost:8080/"
        },
        "id": "7f-LTFr_jrr-",
        "outputId": "90e74b85-21d2-4c81-9d16-62ceb159b5ec"
      },
      "outputs": [
        {
          "name": "stdout",
          "output_type": "stream",
          "text": [
            "2192\n"
          ]
        }
      ],
      "source": [
        "print(count_images_in_folder('/content/drive/MyDrive/near-duplicate-project/dataset_final'))"
      ]
    },
    {
      "cell_type": "code",
      "execution_count": null,
      "metadata": {
        "colab": {
          "base_uri": "https://localhost:8080/",
          "height": 329
        },
        "id": "Ag7Q2d6t2wr4",
        "outputId": "32a93718-be49-436b-d5ff-35e37a1fe726"
      },
      "outputs": [
        {
          "data": {
            "image/png": "[encoded data removed]",
            "text/plain": [
              "<Figure size 1200x600 with 1 Axes>"
            ]
          },
          "metadata": {},
          "output_type": "display_data"
        }
      ],
      "source": [
        "import os\n",
        "import matplotlib.pyplot as plt\n",
        "\n",
        "# Define the path to the clean dataset\n",
        "dataset_dir = '/content/drive/MyDrive/near-duplicate-project/dataset_final'\n",
        "\n",
        "# Get the list of classes (subdirectories in the dataset directory)\n",
        "classes = sorted(os.listdir(dataset_dir))\n",
        "\n",
        "# Count the number of images in each class\n",
        "class_counts = {class_name: len(os.listdir(os.path.join(dataset_dir, class_name))) for class_name in classes}\n",
        "\n",
        "# Extract class names and counts for plotting\n",
        "class_names = [f'class{i+1}' for i in range(len(classes))]\n",
        "image_counts = list(class_counts.values())\n",
        "\n",
        "# Plotting the histogram\n",
        "plt.figure(figsize=(12, 6))\n",
        "plt.bar(class_names, image_counts, color='skyblue')\n",
        "plt.xlabel('Classes')\n",
        "plt.ylabel('Number of Images')\n",
        "plt.title('Distribution of Images by Class')\n",
        "plt.xticks(rotation=90)  # Rotate class names for better readability\n",
        "plt.yticks(range(0, max(image_counts) + 5, 5))  # Set y-axis ticks in increments of 5\n",
        "plt.tight_layout()\n",
        "plt.show()\n"
      ]
    },
    {
      "cell_type": "code",
      "execution_count": null,
      "metadata": {
        "id": "CBoZ2T08oppm"
      },
      "outputs": [],
      "source": [
        "def copy_folder_contents(classes, destination_folder):\n",
        "    for class_folder in classes:\n",
        "        source_folder = os.path.join(original_dataset_folder, class_folder)\n",
        "        destination_class_folder = os.path.join(destination_folder, class_folder)\n",
        "        if not os.path.exists(destination_class_folder):\n",
        "            os.makedirs(destination_class_folder)\n",
        "        for file_name in os.listdir(source_folder):\n",
        "            source_file_path = os.path.join(source_folder, file_name)\n",
        "            destination_file_path = os.path.join(destination_class_folder, file_name)\n",
        "            shutil.copy(source_file_path, destination_file_path)\n"
      ]
    },
    {
      "cell_type": "code",
      "execution_count": null,
      "metadata": {
        "colab": {
          "base_uri": "https://localhost:8080/"
        },
        "id": "_tx4BxlEn48F",
        "outputId": "d00c3a17-6e6e-40d4-95ab-4d9ba029a7a4"
      },
      "outputs": [
        {
          "name": "stdout",
          "output_type": "stream",
          "text": [
            "Dataset créé\n",
            "Total d'images dans Train: 1520\n",
            "Total d'images dans Val: 408\n",
            "Total d'images dans Test: 264\n"
          ]
        }
      ],
      "source": [
        "import os\n",
        "import shutil\n",
        "from sklearn.model_selection import train_test_split\n",
        "\n",
        "original_dataset_folder = '/content/drive/MyDrive/near-duplicate-project/dataset_final/'\n",
        "clean_dataset_folder = '/content/drive/MyDrive/near-duplicate-project/clean_dataset/'\n",
        "\n",
        "train_folder = os.path.join(clean_dataset_folder, 'train')\n",
        "val_folder = os.path.join(clean_dataset_folder, 'val')\n",
        "test_folder = os.path.join(clean_dataset_folder, 'test')\n",
        "\n",
        "for folder in [train_folder, val_folder, test_folder]:\n",
        "    if not os.path.exists(folder):\n",
        "        os.makedirs(folder)\n",
        "\n",
        "all_classes = [d for d in os.listdir(original_dataset_folder) if os.path.isdir(os.path.join(original_dataset_folder, d))]\n",
        "\n",
        "# Split the folders into train, val, and test sets\n",
        "train_classes, temp_classes = train_test_split(all_classes, test_size=0.3, random_state=42)\n",
        "val_classes, test_classes = train_test_split(temp_classes, test_size=0.5, random_state=42)\n",
        "\n",
        "copy_folder_contents(train_classes, train_folder)\n",
        "copy_folder_contents(val_classes, val_folder)\n",
        "copy_folder_contents(test_classes, test_folder)\n",
        "\n",
        "print(\"Dataset créé\")\n",
        "\n",
        "train_folder = os.path.join(clean_dataset_folder, 'train')\n",
        "val_folder = os.path.join(clean_dataset_folder, 'val')\n",
        "test_folder = os.path.join(clean_dataset_folder, 'test')\n",
        "\n",
        "# Compter les images dans chaque dossier\n",
        "total_train_images = count_images_in_folder(train_folder)\n",
        "total_val_images = count_images_in_folder(val_folder)\n",
        "total_test_images = count_images_in_folder(test_folder)\n",
        "\n",
        "print(f\"Total d'images dans Train: {total_train_images}\")\n",
        "print(f\"Total d'images dans Val: {total_val_images}\")\n",
        "print(f\"Total d'images dans Test: {total_test_images}\")\n",
        "\n"
      ]
    },
    {
      "cell_type": "markdown",
      "metadata": {
        "id": "7dCwYYVZpFsP"
      },
      "source": [
        "## Modelisation"
      ]
    },
    {
      "cell_type": "markdown",
      "source": [
        "## Triplet Loss Model"
      ],
      "metadata": {
        "id": "0Gtvfo5Z8Kio"
      }
    },
    {
      "cell_type": "code",
      "execution_count": null,
      "metadata": {
        "id": "B1UdJbxFpHBZ"
      },
      "outputs": [],
      "source": [
        "class TransferLearningModel(nn.Module):\n",
        "    def __init__(self):\n",
        "        super(TransferLearningModel, self).__init__()\n",
        "        #self.resnet = models.resnet152(pretrained=True)\n",
        "        self.resnet = models.resnet34(weights=\"IMAGENET1K_V1\")\n",
        "        # Remove the last classification layer\n",
        "        #self.resnet.fc = nn.Identity()\n",
        "        self.resnet.fc = nn.Sequential(\n",
        "            nn.Linear(self.resnet.fc.in_features, 512),\n",
        "            nn.ReLU(),\n",
        "            nn.Linear(512, 256)\n",
        "        )\n",
        "\n",
        "    def forward(self, x):\n",
        "        return self.resnet(x)\n",
        "\n"
      ]
    },
    {
      "cell_type": "code",
      "execution_count": null,
      "metadata": {
        "id": "NF_0J4CTpseH"
      },
      "outputs": [],
      "source": [
        "class TripletDataset(torch.utils.data.Dataset):\n",
        "    def __init__(self, root_dir, transform=None):\n",
        "        self.root_dir = root_dir\n",
        "        self.transform = transform\n",
        "        self.image_paths = self._load_image_paths()\n",
        "        print(\"Number of images loaded:\", len(self.image_paths))\n",
        "\n",
        "\n",
        "    def __len__(self):\n",
        "        return len(self.image_paths)\n",
        "\n",
        "    def __getitem__(self, idx):\n",
        "        anchor_path = self.image_paths[idx]\n",
        "        anchor_img = Image.open(anchor_path).convert('RGB')\n",
        "        positive_path = self._find_near_duplicate(anchor_path)\n",
        "        positive_img = Image.open(positive_path).convert('RGB')\n",
        "        negative_path = self._find_negative(anchor_path)\n",
        "        negative_img = Image.open(negative_path).convert('RGB')\n",
        "\n",
        "        if self.transform:\n",
        "            anchor_img = self.transform(anchor_img)\n",
        "            positive_img = self.transform(positive_img)\n",
        "            negative_img = self.transform(negative_img)\n",
        "\n",
        "        return anchor_img, positive_img, negative_img\n",
        "\n",
        "    def _load_image_paths(self):\n",
        "        image_paths = []\n",
        "        for root, _, files in os.walk(self.root_dir):\n",
        "            for file in files:\n",
        "                if file.lower().endswith(('.png', '.jpg', '.jpeg')):\n",
        "                    image_paths.append(os.path.join(root, file))\n",
        "        return image_paths\n",
        "\n",
        "    def _find_near_duplicate(self, anchor_path):\n",
        "        anchor_folder = os.path.dirname(anchor_path)\n",
        "        candidate_paths = [path for path in self.image_paths if os.path.dirname(path) == anchor_folder and path != anchor_path]\n",
        "        return random.choice(candidate_paths)\n",
        "\n",
        "    def _find_negative(self, anchor_path):\n",
        "        candidate_paths = [path for path in self.image_paths if os.path.dirname(path) != os.path.dirname(anchor_path)]\n",
        "        return random.choice(candidate_paths)"
      ]
    },
    {
      "cell_type": "markdown",
      "metadata": {
        "id": "TYXUiXbAp9K6"
      },
      "source": [
        "## Training & Validation (Triplet Margin Loss)\n"
      ]
    },
    {
      "cell_type": "markdown",
      "metadata": {
        "id": "jwdgVLIl-u3D"
      },
      "source": [
        "### Triplet Loss"
      ]
    },
    {
      "cell_type": "code",
      "execution_count": null,
      "metadata": {
        "id": "TYTDwGapqATU"
      },
      "outputs": [],
      "source": [
        "import csv\n",
        "\n",
        "# Training function\n",
        "def train(model, train_loader, val_loader, criterion, optimizer, num_epochs=10):\n",
        "    train_losses, val_losses = [], []\n",
        "    train_precisions, val_precisions = [], []\n",
        "    train_recalls, val_recalls = [], []\n",
        "    train_f1s, val_f1s = [], []\n",
        "\n",
        "    for epoch in range(num_epochs):\n",
        "        model.train()\n",
        "        running_loss = 0.0\n",
        "        correct_predictions, total_predictions = 0, 0\n",
        "\n",
        "        for anchor, positive, negative in tqdm(train_loader, desc=f'Epoch {epoch+1}/{num_epochs}'):\n",
        "            anchor, positive, negative = anchor.cuda(), positive.cuda(), negative.cuda()\n",
        "            optimizer.zero_grad()\n",
        "            output_anchor = model(anchor)\n",
        "            output_positive = model(positive)\n",
        "            output_negative = model(negative)\n",
        "            loss = criterion(output_anchor, output_positive, output_negative)\n",
        "            loss.backward()\n",
        "            optimizer.step()\n",
        "            running_loss += loss.item()\n",
        "\n",
        "            distance_positive = (output_anchor - output_positive).pow(2).sum(1)\n",
        "            distance_negative = (output_anchor - output_negative).pow(2).sum(1)\n",
        "            correct_predictions += (distance_negative > distance_positive).sum().item()\n",
        "            total_predictions += anchor.size(0)\n",
        "\n",
        "        train_loss = running_loss / len(train_loader)\n",
        "        train_losses.append(train_loss)\n",
        "        train_precision = correct_predictions / total_predictions\n",
        "        train_precisions.append(train_precision)\n",
        "        train_recall = correct_predictions / total_predictions\n",
        "        train_recalls.append(train_recall)\n",
        "        train_f1 = 2 * (train_precision * train_recall) / (train_precision + train_recall) if (train_precision + train_recall) != 0 else 0\n",
        "        train_f1s.append(train_f1)\n",
        "\n",
        "        val_loss, val_precision, val_recall, val_f1 = validate(model, val_loader, criterion)\n",
        "        val_losses.append(val_loss)\n",
        "        val_precisions.append(val_precision)\n",
        "        val_recalls.append(val_recall)\n",
        "        val_f1s.append(val_f1)\n",
        "\n",
        "        print(f\"Epoch [{epoch+1}/{num_epochs}], Train Loss: {train_loss}, Validation Loss: {val_loss}\")\n",
        "\n",
        "    return train_losses, val_losses, train_precisions, val_precisions, train_recalls, val_recalls, train_f1s, val_f1s\n",
        "\n",
        "# Validate function\n",
        "def validate(model, val_loader, criterion):\n",
        "    model.eval()\n",
        "    val_loss = 0.0\n",
        "    correct_predictions, total_predictions = 0, 0\n",
        "\n",
        "    with torch.no_grad():\n",
        "        for anchor, positive, negative in val_loader:\n",
        "            anchor, positive, negative = anchor.cuda(), positive.cuda(), negative.cuda()\n",
        "            output_anchor = model(anchor)\n",
        "            output_positive = model(positive)\n",
        "            output_negative = model(negative)\n",
        "            loss = criterion(output_anchor, output_positive, output_negative)\n",
        "            val_loss += loss.item()\n",
        "\n",
        "            distance_positive = (output_anchor - output_positive).pow(2).sum(1)\n",
        "            distance_negative = (output_anchor - output_negative).pow(2).sum(1)\n",
        "            correct_predictions += (distance_negative > distance_positive).sum().item()\n",
        "            total_predictions += anchor.size(0)\n",
        "\n",
        "    val_loss /= len(val_loader)\n",
        "    precision = correct_predictions / total_predictions\n",
        "    recall = correct_predictions / total_predictions\n",
        "    f1_score = 2 * (precision * recall) / (precision + recall) if (precision + recall) != 0 else 0\n",
        "\n",
        "    return val_loss, precision, recall, f1_score\n",
        "\n",
        "# Evaluate function\n",
        "def evaluate(model, test_loader, criterion):\n",
        "    model.eval()\n",
        "    test_loss = 0.0\n",
        "    correct_predictions = 0\n",
        "    total_predictions = 0\n",
        "\n",
        "    with torch.no_grad():\n",
        "        for anchor, positive, negative in test_loader:\n",
        "            anchor, positive, negative = anchor.cuda(), positive.cuda(), negative.cuda()\n",
        "            output_anchor = model(anchor)\n",
        "            output_positive = model(positive)\n",
        "            output_negative = model(negative)\n",
        "            loss = criterion(output_anchor, output_positive, output_negative)\n",
        "            test_loss += loss.item()\n",
        "\n",
        "            distance_positive = (output_anchor - output_positive).pow(2).sum(1)\n",
        "            distance_negative = (output_anchor - output_negative).pow(2).sum(1)\n",
        "            correct_predictions += (distance_negative > distance_positive).sum().item()\n",
        "            total_predictions += anchor.size(0)\n",
        "\n",
        "    test_loss /= len(test_loader)\n",
        "    accuracy = correct_predictions / total_predictions\n",
        "    precision = correct_predictions / (correct_predictions + (total_predictions - correct_predictions))\n",
        "    recall = correct_predictions / total_predictions\n",
        "    f1_score = 2 * (precision * recall) / (precision + recall) if (precision + recall) != 0 else 0\n",
        "\n",
        "    return test_loss, accuracy, precision, recall, f1_score\n",
        "\n",
        "# Save the trained model weights\n",
        "def save_model_weights(model, path):\n",
        "    torch.save(model.state_dict(), path)\n"
      ]
    },
    {
      "cell_type": "code",
      "execution_count": null,
      "metadata": {
        "colab": {
          "background_save": true,
          "base_uri": "https://localhost:8080/"
        },
        "id": "bG31kxmZqFlV",
        "outputId": "b0a218f4-bd7e-4cd2-9f8e-d48eda7a85ff"
      },
      "outputs": [
        {
          "name": "stdout",
          "output_type": "stream",
          "text": [
            "Number of images loaded: 1512\n",
            "Number of images loaded: 408\n",
            "Number of images loaded: 264\n"
          ]
        },
        {
          "name": "stderr",
          "output_type": "stream",
          "text": [
            "Epoch 1/25: 100%|██████████| 48/48 [11:28<00:00, 14.35s/it]\n"
          ]
        },
        {
          "name": "stdout",
          "output_type": "stream",
          "text": [
            "Epoch [1/25], Train Loss: 42.52875097716848, Validation Loss: 176.0650406892483\n"
          ]
        },
        {
          "name": "stderr",
          "output_type": "stream",
          "text": [
            "Epoch 2/25: 100%|██████████| 48/48 [01:12<00:00,  1.51s/it]\n"
          ]
        },
        {
          "name": "stdout",
          "output_type": "stream",
          "text": [
            "Epoch [2/25], Train Loss: 1.7990271517386038, Validation Loss: 1501.7809282082778\n"
          ]
        },
        {
          "name": "stderr",
          "output_type": "stream",
          "text": [
            "Epoch 3/25: 100%|██████████| 48/48 [01:12<00:00,  1.51s/it]\n"
          ]
        },
        {
          "name": "stdout",
          "output_type": "stream",
          "text": [
            "Epoch [3/25], Train Loss: 1.0677036345005035, Validation Loss: 313.56587908359677\n"
          ]
        },
        {
          "name": "stderr",
          "output_type": "stream",
          "text": [
            "Epoch 4/25: 100%|██████████| 48/48 [01:12<00:00,  1.51s/it]\n"
          ]
        },
        {
          "name": "stdout",
          "output_type": "stream",
          "text": [
            "Epoch [4/25], Train Loss: 0.9987107813358307, Validation Loss: 457.9702398685309\n"
          ]
        },
        {
          "name": "stderr",
          "output_type": "stream",
          "text": [
            "Epoch 5/25: 100%|██████████| 48/48 [01:12<00:00,  1.51s/it]\n"
          ]
        },
        {
          "name": "stdout",
          "output_type": "stream",
          "text": [
            "Epoch [5/25], Train Loss: 0.9803589135408401, Validation Loss: 152.77708745919742\n"
          ]
        },
        {
          "name": "stderr",
          "output_type": "stream",
          "text": [
            "Epoch 6/25: 100%|██████████| 48/48 [01:12<00:00,  1.51s/it]\n"
          ]
        },
        {
          "name": "stdout",
          "output_type": "stream",
          "text": [
            "Epoch [6/25], Train Loss: 0.8960076260070006, Validation Loss: 172.591442323648\n"
          ]
        },
        {
          "name": "stderr",
          "output_type": "stream",
          "text": [
            "Epoch 7/25: 100%|██████████| 48/48 [01:12<00:00,  1.52s/it]\n"
          ]
        },
        {
          "name": "stdout",
          "output_type": "stream",
          "text": [
            "Epoch [7/25], Train Loss: 0.9117858881751696, Validation Loss: 208.02413137600973\n"
          ]
        },
        {
          "name": "stderr",
          "output_type": "stream",
          "text": [
            "Epoch 8/25: 100%|██████████| 48/48 [01:13<00:00,  1.54s/it]\n"
          ]
        },
        {
          "name": "stdout",
          "output_type": "stream",
          "text": [
            "Epoch [8/25], Train Loss: 0.9216118641197681, Validation Loss: 797.1635818206347\n"
          ]
        },
        {
          "name": "stderr",
          "output_type": "stream",
          "text": [
            "Epoch 9/25: 100%|██████████| 48/48 [01:13<00:00,  1.53s/it]\n"
          ]
        },
        {
          "name": "stdout",
          "output_type": "stream",
          "text": [
            "Epoch [9/25], Train Loss: 0.8913426709671816, Validation Loss: 1053.9828340640436\n"
          ]
        },
        {
          "name": "stderr",
          "output_type": "stream",
          "text": [
            "Epoch 10/25: 100%|██████████| 48/48 [01:12<00:00,  1.52s/it]\n"
          ]
        },
        {
          "name": "stdout",
          "output_type": "stream",
          "text": [
            "Epoch [10/25], Train Loss: 1.0371207613497972, Validation Loss: 81.323362497183\n"
          ]
        },
        {
          "name": "stderr",
          "output_type": "stream",
          "text": [
            "Epoch 11/25: 100%|██████████| 48/48 [01:11<00:00,  1.49s/it]\n"
          ]
        },
        {
          "name": "stdout",
          "output_type": "stream",
          "text": [
            "Epoch [11/25], Train Loss: 1.0, Validation Loss: 127.25507046626164\n"
          ]
        },
        {
          "name": "stderr",
          "output_type": "stream",
          "text": [
            "Epoch 12/25: 100%|██████████| 48/48 [01:11<00:00,  1.48s/it]\n"
          ]
        },
        {
          "name": "stdout",
          "output_type": "stream",
          "text": [
            "Epoch [12/25], Train Loss: 1.0, Validation Loss: 128.48801568838266\n"
          ]
        },
        {
          "name": "stderr",
          "output_type": "stream",
          "text": [
            "Epoch 13/25: 100%|██████████| 48/48 [01:11<00:00,  1.48s/it]\n"
          ]
        },
        {
          "name": "stdout",
          "output_type": "stream",
          "text": [
            "Epoch [13/25], Train Loss: 1.0, Validation Loss: 88.51889771681566\n"
          ]
        },
        {
          "name": "stderr",
          "output_type": "stream",
          "text": [
            "Epoch 14/25: 100%|██████████| 48/48 [01:11<00:00,  1.48s/it]\n"
          ]
        },
        {
          "name": "stdout",
          "output_type": "stream",
          "text": [
            "Epoch [14/25], Train Loss: 1.0, Validation Loss: 144.35801765551935\n"
          ]
        },
        {
          "name": "stderr",
          "output_type": "stream",
          "text": [
            "Epoch 15/25: 100%|██████████| 48/48 [01:11<00:00,  1.48s/it]\n"
          ]
        },
        {
          "name": "stdout",
          "output_type": "stream",
          "text": [
            "Epoch [15/25], Train Loss: 1.0, Validation Loss: 137.7289528479943\n"
          ]
        },
        {
          "name": "stderr",
          "output_type": "stream",
          "text": [
            "Epoch 16/25: 100%|██████████| 48/48 [01:11<00:00,  1.48s/it]\n"
          ]
        },
        {
          "name": "stdout",
          "output_type": "stream",
          "text": [
            "Epoch [16/25], Train Loss: 1.0, Validation Loss: 103.45931322299518\n"
          ]
        },
        {
          "name": "stderr",
          "output_type": "stream",
          "text": [
            "Epoch 17/25: 100%|██████████| 48/48 [01:11<00:00,  1.49s/it]\n"
          ]
        },
        {
          "name": "stdout",
          "output_type": "stream",
          "text": [
            "Epoch [17/25], Train Loss: 1.0, Validation Loss: 132.051469876216\n"
          ]
        },
        {
          "name": "stderr",
          "output_type": "stream",
          "text": [
            "Epoch 18/25: 100%|██████████| 48/48 [01:11<00:00,  1.48s/it]\n"
          ]
        },
        {
          "name": "stdout",
          "output_type": "stream",
          "text": [
            "Epoch [18/25], Train Loss: 1.0, Validation Loss: 123.65808985783504\n"
          ]
        },
        {
          "name": "stderr",
          "output_type": "stream",
          "text": [
            "Epoch 19/25: 100%|██████████| 48/48 [01:11<00:00,  1.49s/it]\n"
          ]
        },
        {
          "name": "stdout",
          "output_type": "stream",
          "text": [
            "Epoch [19/25], Train Loss: 1.0, Validation Loss: 188.8692116370568\n"
          ]
        },
        {
          "name": "stderr",
          "output_type": "stream",
          "text": [
            "Epoch 20/25: 100%|██████████| 48/48 [01:11<00:00,  1.48s/it]\n"
          ]
        },
        {
          "name": "stdout",
          "output_type": "stream",
          "text": [
            "Epoch [20/25], Train Loss: 1.0, Validation Loss: 299.2689547171959\n"
          ]
        },
        {
          "name": "stderr",
          "output_type": "stream",
          "text": [
            "Epoch 21/25: 100%|██████████| 48/48 [01:10<00:00,  1.48s/it]\n"
          ]
        },
        {
          "name": "stdout",
          "output_type": "stream",
          "text": [
            "Epoch [21/25], Train Loss: 1.0, Validation Loss: 129.43137692488156\n"
          ]
        },
        {
          "name": "stderr",
          "output_type": "stream",
          "text": [
            "Epoch 22/25: 100%|██████████| 48/48 [01:10<00:00,  1.47s/it]\n"
          ]
        },
        {
          "name": "stdout",
          "output_type": "stream",
          "text": [
            "Epoch [22/25], Train Loss: 1.0, Validation Loss: 170.09022052471454\n"
          ]
        },
        {
          "name": "stderr",
          "output_type": "stream",
          "text": [
            "Epoch 23/25: 100%|██████████| 48/48 [01:10<00:00,  1.48s/it]\n"
          ]
        },
        {
          "name": "stdout",
          "output_type": "stream",
          "text": [
            "Epoch [23/25], Train Loss: 1.0, Validation Loss: 216.8797791325129\n"
          ]
        },
        {
          "name": "stderr",
          "output_type": "stream",
          "text": [
            "Epoch 24/25: 100%|██████████| 48/48 [01:11<00:00,  1.48s/it]\n"
          ]
        },
        {
          "name": "stdout",
          "output_type": "stream",
          "text": [
            "Epoch [24/25], Train Loss: 1.0, Validation Loss: 163.22301776592548\n"
          ]
        },
        {
          "name": "stderr",
          "output_type": "stream",
          "text": [
            "Epoch 25/25: 100%|██████████| 48/48 [01:10<00:00,  1.47s/it]\n"
          ]
        },
        {
          "name": "stdout",
          "output_type": "stream",
          "text": [
            "Epoch [25/25], Train Loss: 1.0, Validation Loss: 139.92920332688553\n"
          ]
        }
      ],
      "source": [
        "# Model and DataLoader setup\n",
        "num_epochs= 25\n",
        "\n",
        "model = TransferLearningModel().cuda()\n",
        "#model.load_state_dict(torch.load('/content/drive/MyDrive/near-duplicate-project/weight/model_resnet34_2_epochs_v4.pth'))\n",
        "criterion = nn.TripletMarginLoss()\n",
        "optimizer = optim.Adam(model.parameters(), lr=0.1)\n",
        "\n",
        "transform = transforms.Compose([\n",
        "    transforms.Grayscale(num_output_channels=3),\n",
        "    transforms.RandomHorizontalFlip(),\n",
        "    transforms.Resize(400),\n",
        "    #transforms.CenterCrop(350),\n",
        "    transforms.ToTensor(),\n",
        "    transforms.Normalize(mean=[0.485, 0.456, 0.406], std=[0.229, 0.224, 0.225])\n",
        "])\n",
        "\n",
        "# Define directories for train, validation, and test datasets\n",
        "train_dir = '/content/drive/MyDrive/near-duplicate-project/clean_dataset/train'\n",
        "val_dir = '/content/drive/MyDrive/near-duplicate-project/clean_dataset/val'\n",
        "test_dir = '/content/drive/MyDrive/near-duplicate-project/clean_dataset/test'\n",
        "\n",
        "train_dataset = TripletDataset(root_dir=train_dir, transform=transform)\n",
        "val_dataset = TripletDataset(root_dir=val_dir, transform=transform)\n",
        "test_dataset = TripletDataset(root_dir=test_dir, transform=transform)\n",
        "\n",
        "train_loader = DataLoader(train_dataset, batch_size=32, shuffle=True)\n",
        "val_loader = DataLoader(val_dataset, batch_size=32, shuffle=False)\n",
        "test_loader = DataLoader(test_dataset, batch_size=32, shuffle=False)\n",
        "\n",
        "train_losses, val_losses, train_precisions, val_precisions, train_recalls, val_recalls, train_f1s, val_f1s = train(\n",
        "    model, train_loader, val_loader, criterion, optimizer, num_epochs=num_epochs\n",
        ")\n",
        "\n",
        "# Save model weights\n",
        "save_model_weights(model, '/content/drive/MyDrive/near-duplicate-project/weight/triplet/model_resnet34_25_epochs_triplet_v4.pth')\n",
        "\n",
        "# Save metrics to CSV\n",
        "metrics = {\n",
        "    \"epoch\": list(range(1, num_epochs + 1)),\n",
        "    \"train_loss\": train_losses,\n",
        "    \"val_loss\": val_losses,\n",
        "    \"train_precision\": train_precisions,\n",
        "    \"val_precision\": val_precisions,\n",
        "    \"train_recall\": train_recalls,\n",
        "    \"val_recall\": val_recalls,\n",
        "    \"train_f1\": train_f1s,\n",
        "    \"val_f1\": val_f1s\n",
        "}\n",
        "\n",
        "csv_file_path = '/content/drive/MyDrive/near-duplicate-project/metrics/metrics_triplet.csv'\n",
        "with open(csv_file_path, mode='w', newline='') as file:\n",
        "    writer = csv.writer(file)\n",
        "    writer.writerow(metrics.keys())\n",
        "    writer.writerows(zip(*metrics.values()))\n",
        "\n",
        "# Evaluate on test set\n",
        "test_loss, test_accuracy, test_precision, test_recall, test_f1 = evaluate(model, test_loader, criterion)"
      ]
    },
    {
      "cell_type": "code",
      "execution_count": null,
      "metadata": {
        "id": "B9YG8zr5sNsB"
      },
      "outputs": [],
      "source": [
        "# Evaluate on test set\n",
        "test_loss, test_accuracy, test_precision, test_recall, test_f1 = evaluate(model, test_loader, criterion)"
      ]
    },
    {
      "cell_type": "code",
      "execution_count": null,
      "metadata": {
        "colab": {
          "base_uri": "https://localhost:8080/",
          "height": 1000
        },
        "id": "KIgeVfVcsI-F",
        "outputId": "38e7fd54-2183-41a5-aec2-49bbccc870a4"
      },
      "outputs": [
        {
          "data": {
            "image/png": "[encoded data removed]",
            "text/plain": [
              "<Figure size 1200x1000 with 4 Axes>"
            ]
          },
          "metadata": {},
          "output_type": "display_data"
        }
      ],
      "source": [
        "epochs = range(1, 11)\n",
        "\n",
        "plt.figure(figsize=(12, 10))\n",
        "\n",
        "plt.subplot(2, 2, 1)\n",
        "plt.plot(epochs, train_losses, label='Train Loss')\n",
        "plt.plot(epochs, val_losses, label='Validation Loss')\n",
        "plt.xlabel('Epochs')\n",
        "plt.ylabel('Loss')\n",
        "plt.title('Loss over epochs')\n",
        "plt.legend()\n",
        "\n",
        "plt.subplot(2, 2, 2)\n",
        "plt.plot(epochs, train_precisions, label='Train Precision')\n",
        "plt.plot(epochs, val_precisions, label='Validation Precision')\n",
        "plt.xlabel('Epochs')\n",
        "plt.ylabel('Precision')\n",
        "plt.title('Precision over epochs')\n",
        "plt.legend()\n",
        "\n",
        "plt.subplot(2, 2, 3)\n",
        "plt.plot(epochs, train_recalls, label='Train Recall')\n",
        "plt.plot(epochs, val_recalls, label='Validation Recall')\n",
        "plt.xlabel('Epochs')\n",
        "plt.ylabel('Recall')\n",
        "plt.title('Recall over epochs')\n",
        "plt.legend()\n",
        "\n",
        "plt.subplot(2, 2, 4)\n",
        "plt.plot(epochs, train_f1s, label='Train F1 Score')\n",
        "plt.plot(epochs, val_f1s, label='Validation F1 Score')\n",
        "plt.xlabel('Epochs')\n",
        "plt.ylabel('F1 Score')\n",
        "plt.title('F1 Score over epochs')\n",
        "plt.legend()\n",
        "\n",
        "plt.tight_layout()\n",
        "plt.show()"
      ]
    },
    {
      "cell_type": "markdown",
      "source": [
        "## Training & Validation (Cross-entropy Loss)\n"
      ],
      "metadata": {
        "id": "DSoR_aRB8lJ_"
      }
    },
    {
      "cell_type": "markdown",
      "metadata": {
        "id": "GmVEGswk-zJ2"
      },
      "source": [
        "### CrossEntropy"
      ]
    },
    {
      "cell_type": "code",
      "execution_count": null,
      "metadata": {
        "id": "I8mwGqEPFBRz"
      },
      "outputs": [],
      "source": [
        "class TransferLearningModel(nn.Module):\n",
        "    def __init__(self, num_classes):\n",
        "        super(TransferLearningModel, self).__init__()\n",
        "        self.resnet = models.resnet34(weights=models.ResNet34_Weights.IMAGENET1K_V1)\n",
        "        self.resnet.conv1 = nn.Conv2d(3, 64, kernel_size=7, stride=2, padding=3, bias=False)  # Adjust to accept 3 channels\n",
        "        num_ftrs = self.resnet.fc.in_features\n",
        "        self.resnet.fc = nn.Linear(num_ftrs, num_classes)\n",
        "\n",
        "    def forward(self, x):\n",
        "        return self.resnet(x)"
      ]
    },
    {
      "cell_type": "code",
      "execution_count": null,
      "metadata": {
        "id": "akHBTmZlFKId"
      },
      "outputs": [],
      "source": [
        "class ClassificationDataset(Dataset):\n",
        "    def __init__(self, root_dir, transform=None):\n",
        "        self.root_dir = root_dir\n",
        "        self.transform = transform\n",
        "        self.image_paths, self.labels = self._load_image_paths_and_labels()\n",
        "\n",
        "    def _load_image_paths_and_labels(self):\n",
        "        image_paths = []\n",
        "        labels = []\n",
        "        class_folders = sorted(os.listdir(self.root_dir))\n",
        "        for idx, class_folder in enumerate(class_folders):\n",
        "            class_folder_path = os.path.join(self.root_dir, class_folder)\n",
        "            if os.path.isdir(class_folder_path):\n",
        "                for file in os.listdir(class_folder_path):\n",
        "                    if file.lower().endswith(('.png', '.jpg', '.jpeg')):\n",
        "                        image_paths.append(os.path.join(class_folder_path, file))\n",
        "                        labels.append(idx)\n",
        "        return image_paths, labels\n",
        "\n",
        "    def __len__(self):\n",
        "        return len(self.image_paths)\n",
        "\n",
        "    def __getitem__(self, idx):\n",
        "        img_path = self.image_paths[idx]\n",
        "        image = Image.open(img_path).convert('L')\n",
        "        if self.transform:\n",
        "            image = self.transform(image)\n",
        "        label = self.labels[idx]\n",
        "        return image, label"
      ]
    },
    {
      "cell_type": "code",
      "execution_count": null,
      "metadata": {
        "id": "7zCvMF-e3HeF"
      },
      "outputs": [],
      "source": [
        "from sklearn.metrics import precision_score, recall_score, f1_score\n",
        "\n",
        "# Training function\n",
        "def train(model, train_loader, val_loader, criterion, optimizer, num_epochs=10):\n",
        "    train_losses, val_losses = [], []\n",
        "    train_precisions, val_precisions = [], []\n",
        "    train_recalls, val_recalls = [], []\n",
        "    train_f1s, val_f1s = [], []\n",
        "\n",
        "    for epoch in range(num_epochs):\n",
        "        model.train()\n",
        "        running_loss, correct_predictions, total_predictions = 0.0, 0, 0\n",
        "        all_labels, all_preds = [], []\n",
        "\n",
        "        for images, labels in tqdm(train_loader, desc=f'Epoch {epoch+1}/{num_epochs}'):\n",
        "            images, labels = images.cuda(), labels.cuda()\n",
        "            optimizer.zero_grad()\n",
        "            outputs = model(images)\n",
        "            loss = criterion(outputs, labels)\n",
        "            loss.backward()\n",
        "            optimizer.step()\n",
        "            running_loss += loss.item()\n",
        "\n",
        "            _, preds = torch.max(outputs, 1)\n",
        "            correct_predictions += torch.sum(preds == labels).item()\n",
        "            total_predictions += labels.size(0)\n",
        "\n",
        "            all_labels.extend(labels.cpu().numpy())\n",
        "            all_preds.extend(preds.cpu().numpy())\n",
        "\n",
        "        train_loss = running_loss / len(train_loader)\n",
        "        train_accuracy = correct_predictions / total_predictions\n",
        "        train_losses.append(train_loss)\n",
        "\n",
        "        train_precision = precision_score(all_labels, all_preds, average='macro', zero_division=0)\n",
        "        train_recall = recall_score(all_labels, all_preds, average='macro', zero_division=0)\n",
        "        train_f1 = f1_score(all_labels, all_preds, average='macro', zero_division=0)\n",
        "\n",
        "        train_precisions.append(train_precision)\n",
        "        train_recalls.append(train_recall)\n",
        "        train_f1s.append(train_f1)\n",
        "\n",
        "        val_loss, val_precision, val_recall, val_f1 = validate(model, val_loader, criterion)\n",
        "        val_losses.append(val_loss)\n",
        "        val_precisions.append(val_precision)\n",
        "        val_recalls.append(val_recall)\n",
        "        val_f1s.append(val_f1)\n",
        "\n",
        "        print(f\"Epoch [{epoch+1}/{num_epochs}], Train Loss: {train_loss:.4f}, Precision: {train_precision:.4f}, Recall: {train_recall:.4f}, F1: {train_f1:.4f}\")\n",
        "        print(f\"Validation Loss: {val_loss:.4f}, Precision: {val_precision:.4f}, Recall: {val_recall:.4f}, F1: {val_f1:.4f}\")\n",
        "\n",
        "    return train_losses, val_losses, train_precisions, val_precisions, train_recalls, val_recalls, train_f1s, val_f1s\n",
        "\n",
        "# Validation function\n",
        "def validate(model, val_loader, criterion):\n",
        "    model.eval()\n",
        "    val_loss, correct_predictions, total_predictions = 0.0, 0, 0\n",
        "    all_labels, all_preds = [], []\n",
        "\n",
        "    with torch.no_grad():\n",
        "        for images, labels in val_loader:\n",
        "            images, labels = images.cuda(), labels.cuda()\n",
        "            outputs = model(images)\n",
        "            loss = criterion(outputs, labels)\n",
        "            val_loss += loss.item()\n",
        "\n",
        "            _, preds = torch.max(outputs, 1)\n",
        "            correct_predictions += torch.sum(preds == labels).item()\n",
        "            total_predictions += labels.size(0)\n",
        "\n",
        "            all_labels.extend(labels.cpu().numpy())\n",
        "            all_preds.extend(preds.cpu().numpy())\n",
        "\n",
        "    val_loss /= len(val_loader)\n",
        "    val_precision = precision_score(all_labels, all_preds, average='macro', zero_division=0)\n",
        "    val_recall = recall_score(all_labels, all_preds, average='macro', zero_division=0)\n",
        "    val_f1 = f1_score(all_labels, all_preds, average='macro', zero_division=0)\n",
        "\n",
        "    return val_loss, val_precision, val_recall, val_f1\n",
        "\n",
        "# Evaluation function\n",
        "def evaluate(model, test_loader, criterion):\n",
        "    model.eval()\n",
        "    test_loss, correct_predictions, total_predictions = 0.0, 0, 0\n",
        "    all_labels, all_preds = [], []\n",
        "\n",
        "    with torch.no_grad():\n",
        "        for images, labels in test_loader:\n",
        "            images, labels = images.cuda(), labels.cuda()\n",
        "            outputs = model(images)\n",
        "            loss = criterion(outputs, labels)\n",
        "            test_loss += loss.item()\n",
        "\n",
        "            _, preds = torch.max(outputs, 1)\n",
        "            correct_predictions += torch.sum(preds == labels).item()\n",
        "            total_predictions += labels.size(0)\n",
        "\n",
        "            all_labels.extend(labels.cpu().numpy())\n",
        "            all_preds.extend(preds.cpu().numpy())\n",
        "\n",
        "    test_loss /= len(test_loader)\n",
        "    test_precision = precision_score(all_labels, all_preds, average='macro', zero_division=0)\n",
        "    test_recall = recall_score(all_labels, all_preds, average='macro', zero_division=0)\n",
        "    test_f1 = f1_score(all_labels, all_preds, average='macro', zero_division=0)\n",
        "\n",
        "    print(f'Test Loss: {test_loss:.4f}, Test Accuracy: {correct_predictions / total_predictions * 100:.2f}%, Precision: {test_precision:.4f}, Recall: {test_recall:.4f}, F1: {test_f1:.4f}')\n",
        "    return test_loss, correct_predictions / total_predictions, test_precision, test_recall, test_f1\n"
      ]
    },
    {
      "cell_type": "code",
      "execution_count": null,
      "metadata": {
        "id": "NKnl-aIQByMe"
      },
      "outputs": [],
      "source": [
        "train_dir = '/content/drive/MyDrive/near-duplicate-project/clean_dataset/train'\n",
        "val_dir = '/content/drive/MyDrive/near-duplicate-project/clean_dataset/val'\n",
        "test_dir = '/content/drive/MyDrive/near-duplicate-project/clean_dataset/test'"
      ]
    },
    {
      "cell_type": "code",
      "execution_count": null,
      "metadata": {
        "colab": {
          "base_uri": "https://localhost:8080/"
        },
        "id": "1VZq3XIi_S_H",
        "outputId": "1c8a8992-7bf0-48ac-8eb8-eec0543646b9"
      },
      "outputs": [
        {
          "name": "stderr",
          "output_type": "stream",
          "text": [
            "Epoch 1/25: 100%|██████████| 48/48 [00:17<00:00,  2.68it/s]\n"
          ]
        },
        {
          "name": "stdout",
          "output_type": "stream",
          "text": [
            "Epoch [1/25], Train Loss: 4.3401, Precision: 0.0179, Recall: 0.0227, F1: 0.0124\n",
            "Validation Loss: 5.5420, Precision: 0.0000, Recall: 0.0000, F1: 0.0000\n"
          ]
        },
        {
          "name": "stderr",
          "output_type": "stream",
          "text": [
            "Epoch 2/25: 100%|██████████| 48/48 [00:17<00:00,  2.70it/s]\n"
          ]
        },
        {
          "name": "stdout",
          "output_type": "stream",
          "text": [
            "Epoch [2/25], Train Loss: 3.7356, Precision: 0.0091, Recall: 0.0225, F1: 0.0089\n",
            "Validation Loss: 4.4214, Precision: 0.0000, Recall: 0.0000, F1: 0.0000\n"
          ]
        },
        {
          "name": "stderr",
          "output_type": "stream",
          "text": [
            "Epoch 3/25: 100%|██████████| 48/48 [00:17<00:00,  2.70it/s]\n"
          ]
        },
        {
          "name": "stdout",
          "output_type": "stream",
          "text": [
            "Epoch [3/25], Train Loss: 3.6034, Precision: 0.0176, Recall: 0.0282, F1: 0.0164\n",
            "Validation Loss: 7.3233, Precision: 0.0000, Recall: 0.0000, F1: 0.0000\n"
          ]
        },
        {
          "name": "stderr",
          "output_type": "stream",
          "text": [
            "Epoch 4/25: 100%|██████████| 48/48 [00:17<00:00,  2.71it/s]\n"
          ]
        },
        {
          "name": "stdout",
          "output_type": "stream",
          "text": [
            "Epoch [4/25], Train Loss: 3.4760, Precision: 0.0516, Recall: 0.0409, F1: 0.0256\n",
            "Validation Loss: 4.7066, Precision: 0.0000, Recall: 0.0000, F1: 0.0000\n"
          ]
        },
        {
          "name": "stderr",
          "output_type": "stream",
          "text": [
            "Epoch 5/25: 100%|██████████| 48/48 [00:17<00:00,  2.69it/s]\n"
          ]
        },
        {
          "name": "stdout",
          "output_type": "stream",
          "text": [
            "Epoch [5/25], Train Loss: 3.3569, Precision: 0.0375, Recall: 0.0483, F1: 0.0372\n",
            "Validation Loss: 6.3415, Precision: 0.0083, Recall: 0.0028, F1: 0.0042\n"
          ]
        },
        {
          "name": "stderr",
          "output_type": "stream",
          "text": [
            "Epoch 6/25: 100%|██████████| 48/48 [00:17<00:00,  2.69it/s]\n"
          ]
        },
        {
          "name": "stdout",
          "output_type": "stream",
          "text": [
            "Epoch [6/25], Train Loss: 3.3013, Precision: 0.0454, Recall: 0.0535, F1: 0.0424\n",
            "Validation Loss: 5.6063, Precision: 0.0691, Recall: 0.0192, F1: 0.0278\n"
          ]
        },
        {
          "name": "stderr",
          "output_type": "stream",
          "text": [
            "Epoch 7/25: 100%|██████████| 48/48 [00:17<00:00,  2.68it/s]\n"
          ]
        },
        {
          "name": "stdout",
          "output_type": "stream",
          "text": [
            "Epoch [7/25], Train Loss: 3.2177, Precision: 0.0745, Recall: 0.0753, F1: 0.0620\n",
            "Validation Loss: 32.9483, Precision: 0.0000, Recall: 0.0000, F1: 0.0000\n"
          ]
        },
        {
          "name": "stderr",
          "output_type": "stream",
          "text": [
            "Epoch 8/25: 100%|██████████| 48/48 [00:17<00:00,  2.69it/s]\n"
          ]
        },
        {
          "name": "stdout",
          "output_type": "stream",
          "text": [
            "Epoch [8/25], Train Loss: 3.1518, Precision: 0.0913, Recall: 0.1000, F1: 0.0838\n",
            "Validation Loss: 6.4950, Precision: 0.0426, Recall: 0.0217, F1: 0.0240\n"
          ]
        },
        {
          "name": "stderr",
          "output_type": "stream",
          "text": [
            "Epoch 9/25: 100%|██████████| 48/48 [00:17<00:00,  2.69it/s]\n"
          ]
        },
        {
          "name": "stdout",
          "output_type": "stream",
          "text": [
            "Epoch [9/25], Train Loss: 3.0048, Precision: 0.1378, Recall: 0.1262, F1: 0.1160\n",
            "Validation Loss: 6.8188, Precision: 0.0742, Recall: 0.0230, F1: 0.0349\n"
          ]
        },
        {
          "name": "stderr",
          "output_type": "stream",
          "text": [
            "Epoch 10/25: 100%|██████████| 48/48 [00:17<00:00,  2.70it/s]\n"
          ]
        },
        {
          "name": "stdout",
          "output_type": "stream",
          "text": [
            "Epoch [10/25], Train Loss: 2.8760, Precision: 0.1717, Recall: 0.1364, F1: 0.1309\n",
            "Validation Loss: 7.3814, Precision: 0.0120, Recall: 0.0010, F1: 0.0013\n"
          ]
        },
        {
          "name": "stderr",
          "output_type": "stream",
          "text": [
            "Epoch 11/25: 100%|██████████| 48/48 [00:18<00:00,  2.66it/s]\n"
          ]
        },
        {
          "name": "stdout",
          "output_type": "stream",
          "text": [
            "Epoch [11/25], Train Loss: 2.6321, Precision: 0.2212, Recall: 0.1973, F1: 0.1954\n",
            "Validation Loss: 7.1154, Precision: 0.0604, Recall: 0.0143, F1: 0.0184\n"
          ]
        },
        {
          "name": "stderr",
          "output_type": "stream",
          "text": [
            "Epoch 12/25: 100%|██████████| 48/48 [00:17<00:00,  2.68it/s]\n"
          ]
        },
        {
          "name": "stdout",
          "output_type": "stream",
          "text": [
            "Epoch [12/25], Train Loss: 2.4257, Precision: 0.2730, Recall: 0.2480, F1: 0.2421\n",
            "Validation Loss: 19.2205, Precision: 0.0570, Recall: 0.0028, F1: 0.0050\n"
          ]
        },
        {
          "name": "stderr",
          "output_type": "stream",
          "text": [
            "Epoch 13/25: 100%|██████████| 48/48 [00:17<00:00,  2.70it/s]\n"
          ]
        },
        {
          "name": "stdout",
          "output_type": "stream",
          "text": [
            "Epoch [13/25], Train Loss: 2.2139, Precision: 0.3203, Recall: 0.3007, F1: 0.2940\n",
            "Validation Loss: 11.8669, Precision: 0.0248, Recall: 0.0016, F1: 0.0030\n"
          ]
        },
        {
          "name": "stderr",
          "output_type": "stream",
          "text": [
            "Epoch 14/25: 100%|██████████| 48/48 [00:17<00:00,  2.69it/s]\n"
          ]
        },
        {
          "name": "stdout",
          "output_type": "stream",
          "text": [
            "Epoch [14/25], Train Loss: 1.9551, Precision: 0.4173, Recall: 0.3758, F1: 0.3812\n",
            "Validation Loss: 11.0369, Precision: 0.0407, Recall: 0.0105, F1: 0.0097\n"
          ]
        },
        {
          "name": "stderr",
          "output_type": "stream",
          "text": [
            "Epoch 15/25: 100%|██████████| 48/48 [00:17<00:00,  2.67it/s]\n"
          ]
        },
        {
          "name": "stdout",
          "output_type": "stream",
          "text": [
            "Epoch [15/25], Train Loss: 1.7410, Precision: 0.4711, Recall: 0.4511, F1: 0.4465\n",
            "Validation Loss: 9.6730, Precision: 0.0123, Recall: 0.0035, F1: 0.0046\n"
          ]
        },
        {
          "name": "stderr",
          "output_type": "stream",
          "text": [
            "Epoch 16/25: 100%|██████████| 48/48 [00:17<00:00,  2.69it/s]\n"
          ]
        },
        {
          "name": "stdout",
          "output_type": "stream",
          "text": [
            "Epoch [16/25], Train Loss: 1.4779, Precision: 0.5752, Recall: 0.5256, F1: 0.5310\n",
            "Validation Loss: 22.6551, Precision: 0.0188, Recall: 0.0024, F1: 0.0039\n"
          ]
        },
        {
          "name": "stderr",
          "output_type": "stream",
          "text": [
            "Epoch 17/25: 100%|██████████| 48/48 [00:17<00:00,  2.71it/s]\n"
          ]
        },
        {
          "name": "stdout",
          "output_type": "stream",
          "text": [
            "Epoch [17/25], Train Loss: 1.1655, Precision: 0.6316, Recall: 0.5880, F1: 0.5974\n",
            "Validation Loss: 13.8026, Precision: 0.0259, Recall: 0.0049, F1: 0.0070\n"
          ]
        },
        {
          "name": "stderr",
          "output_type": "stream",
          "text": [
            "Epoch 18/25: 100%|██████████| 48/48 [00:17<00:00,  2.70it/s]\n"
          ]
        },
        {
          "name": "stdout",
          "output_type": "stream",
          "text": [
            "Epoch [18/25], Train Loss: 1.0450, Precision: 0.7154, Recall: 0.6511, F1: 0.6628\n",
            "Validation Loss: 12.5421, Precision: 0.0053, Recall: 0.0025, F1: 0.0034\n"
          ]
        },
        {
          "name": "stderr",
          "output_type": "stream",
          "text": [
            "Epoch 19/25: 100%|██████████| 48/48 [00:17<00:00,  2.70it/s]\n"
          ]
        },
        {
          "name": "stdout",
          "output_type": "stream",
          "text": [
            "Epoch [19/25], Train Loss: 1.0764, Precision: 0.6676, Recall: 0.6284, F1: 0.6393\n",
            "Validation Loss: 14.9788, Precision: 0.0504, Recall: 0.0076, F1: 0.0102\n"
          ]
        },
        {
          "name": "stderr",
          "output_type": "stream",
          "text": [
            "Epoch 20/25: 100%|██████████| 48/48 [00:17<00:00,  2.69it/s]\n"
          ]
        },
        {
          "name": "stdout",
          "output_type": "stream",
          "text": [
            "Epoch [20/25], Train Loss: 0.6857, Precision: 0.7988, Recall: 0.7651, F1: 0.7749\n",
            "Validation Loss: 13.5299, Precision: 0.0210, Recall: 0.0159, F1: 0.0096\n"
          ]
        },
        {
          "name": "stderr",
          "output_type": "stream",
          "text": [
            "Epoch 21/25: 100%|██████████| 48/48 [00:17<00:00,  2.68it/s]\n"
          ]
        },
        {
          "name": "stdout",
          "output_type": "stream",
          "text": [
            "Epoch [21/25], Train Loss: 0.6176, Precision: 0.8010, Recall: 0.7715, F1: 0.7800\n",
            "Validation Loss: 13.0743, Precision: 0.0140, Recall: 0.0021, F1: 0.0036\n"
          ]
        },
        {
          "name": "stderr",
          "output_type": "stream",
          "text": [
            "Epoch 22/25: 100%|██████████| 48/48 [00:17<00:00,  2.68it/s]\n"
          ]
        },
        {
          "name": "stdout",
          "output_type": "stream",
          "text": [
            "Epoch [22/25], Train Loss: 0.5550, Precision: 0.8064, Recall: 0.7880, F1: 0.7918\n",
            "Validation Loss: 11.9552, Precision: 0.0558, Recall: 0.0138, F1: 0.0193\n"
          ]
        },
        {
          "name": "stderr",
          "output_type": "stream",
          "text": [
            "Epoch 23/25: 100%|██████████| 48/48 [00:17<00:00,  2.70it/s]\n"
          ]
        },
        {
          "name": "stdout",
          "output_type": "stream",
          "text": [
            "Epoch [23/25], Train Loss: 0.3468, Precision: 0.8980, Recall: 0.8687, F1: 0.8775\n",
            "Validation Loss: 12.9485, Precision: 0.0228, Recall: 0.0082, F1: 0.0118\n"
          ]
        },
        {
          "name": "stderr",
          "output_type": "stream",
          "text": [
            "Epoch 24/25: 100%|██████████| 48/48 [00:17<00:00,  2.68it/s]\n"
          ]
        },
        {
          "name": "stdout",
          "output_type": "stream",
          "text": [
            "Epoch [24/25], Train Loss: 0.4661, Precision: 0.8525, Recall: 0.8475, F1: 0.8470\n",
            "Validation Loss: 10.9468, Precision: 0.0770, Recall: 0.0207, F1: 0.0287\n"
          ]
        },
        {
          "name": "stderr",
          "output_type": "stream",
          "text": [
            "Epoch 25/25: 100%|██████████| 48/48 [00:17<00:00,  2.69it/s]\n"
          ]
        },
        {
          "name": "stdout",
          "output_type": "stream",
          "text": [
            "Epoch [25/25], Train Loss: 0.3513, Precision: 0.8828, Recall: 0.8580, F1: 0.8645\n",
            "Validation Loss: 11.9944, Precision: 0.0169, Recall: 0.0111, F1: 0.0129\n"
          ]
        }
      ],
      "source": [
        "# Model and DataLoader setup\n",
        "num_classes = len(os.listdir(train_dir))  # Number of classes based on subdirectories in train_dir\n",
        "num_epochs = 25\n",
        "\n",
        "model = TransferLearningModel(num_classes=num_classes).cuda()\n",
        "criterion = nn.CrossEntropyLoss()\n",
        "optimizer = optim.Adam(model.parameters(), lr=0.01)\n",
        "\n",
        "transform = transforms.Compose([\n",
        "    transforms.Grayscale(num_output_channels=3),\n",
        "    transforms.RandomHorizontalFlip(),\n",
        "    transforms.Resize(400),\n",
        "    transforms.CenterCrop(350),\n",
        "    transforms.ToTensor(),\n",
        "    transforms.Normalize(mean=[0.485, 0.456, 0.406], std=[0.229, 0.224, 0.225])\n",
        "])\n",
        "\n",
        "train_dataset = ClassificationDataset(root_dir=train_dir, transform=transform)\n",
        "val_dataset = ClassificationDataset(root_dir=val_dir, transform=transform)\n",
        "test_dataset = ClassificationDataset(root_dir=test_dir, transform=transform)\n",
        "\n",
        "train_loader = DataLoader(train_dataset, batch_size=32, shuffle=True)\n",
        "val_loader = DataLoader(val_dataset, batch_size=32, shuffle=False)\n",
        "test_loader = DataLoader(test_dataset, batch_size=32, shuffle=False)\n",
        "\n",
        "train_losses, val_losses, train_precisions, val_precisions, train_recalls, val_recalls, train_f1s, val_f1s = train(\n",
        "    model, train_loader, val_loader, criterion, optimizer, num_epochs=num_epochs\n",
        ")"
      ]
    },
    {
      "cell_type": "code",
      "execution_count": null,
      "metadata": {
        "colab": {
          "base_uri": "https://localhost:8080/"
        },
        "id": "TM6Ts_hFLnOp",
        "outputId": "fe2a8d1e-8d74-4f02-ff75-a15b1d820ec9"
      },
      "outputs": [
        {
          "name": "stdout",
          "output_type": "stream",
          "text": [
            "Test Loss: 14.2126, Test Accuracy: 4.17%, Precision: 0.0318, Recall: 0.0078, F1: 0.0124\n",
            "Test Loss: 14.1571, Test Accuracy: 4.17%, Precision: 0.0278, Recall: 0.0069, F1: 0.0111\n"
          ]
        }
      ],
      "source": [
        "\n",
        "# Save model weights\n",
        "save_model_weights(model, '/content/drive/MyDrive/near-duplicate-project/weight/crossentropy/model_resnet34_25_epochs_crossentropy_v1.pth')\n",
        "\n",
        "# Evaluate on test set\n",
        "test_loss, test_accuracy, test_precision, test_recall, test_f1 = evaluate(model, test_loader, criterion)\n",
        "\n",
        "# Save metrics to CSV\n",
        "metrics = {\n",
        "    \"epoch\": list(range(1, num_epochs + 1)),\n",
        "    \"train_loss\": train_losses,\n",
        "    \"val_loss\": val_losses,\n",
        "    \"train_precision\": train_precisions,\n",
        "    \"val_precision\": val_precisions,\n",
        "    \"train_recall\": train_recalls,\n",
        "    \"val_recall\": val_recalls,\n",
        "    \"train_f1\": train_f1s,\n",
        "    \"val_f1\": val_f1s\n",
        "}\n",
        "\n",
        "csv_file_path = '/content/drive/MyDrive/near-duplicate-project/metrics/metrics_restnet34_25_epochs_crossentropy.csv'\n",
        "with open(csv_file_path, mode='w', newline='') as file:\n",
        "    writer = csv.writer(file)\n",
        "    writer.writerow(metrics.keys())\n",
        "    writer.writerows(zip(*metrics.values()))\n",
        "\n",
        "# Evaluate on test set\n",
        "test_loss, test_accuracy, test_precision, test_recall, test_f1 = evaluate(model, test_loader, criterion)"
      ]
    },
    {
      "cell_type": "code",
      "execution_count": null,
      "metadata": {
        "colab": {
          "base_uri": "https://localhost:8080/"
        },
        "id": "3x6OjvKr_cql",
        "outputId": "64316d07-2958-46ed-bf3d-b4366e618442"
      },
      "outputs": [
        {
          "name": "stdout",
          "output_type": "stream",
          "text": [
            "Test Loss: 15.345282173156738, Test Accuracy: 1.59%\n"
          ]
        }
      ],
      "source": [
        "# Evaluate on test set\n",
        "test_loss, test_accuracy = evaluate(model, test_loader, criterion)"
      ]
    },
    {
      "cell_type": "code",
      "execution_count": null,
      "metadata": {
        "colab": {
          "base_uri": "https://localhost:8080/",
          "height": 464
        },
        "id": "gURLeyo3_Vik",
        "outputId": "d8dde40a-a7f3-4e0c-cbcb-e69c26eeb115"
      },
      "outputs": [
        {
          "data": {
            "image/png": "[encoded data removed]",
            "text/plain": [
              "<Figure size 1400x1000 with 4 Axes>"
            ]
          },
          "metadata": {},
          "output_type": "display_data"
        }
      ],
      "source": [
        "import pandas as pd\n",
        "import matplotlib.pyplot as plt\n",
        "\n",
        "# Load the metrics CSV file\n",
        "csv_file_path = '/content/drive/MyDrive/near-duplicate-project/metrics/metrics_restnet34_25_epochs_crossentropy.csv'\n",
        "metrics_df = pd.read_csv(csv_file_path)\n",
        "\n",
        "# Plotting the metrics\n",
        "epochs = metrics_df['epoch']\n",
        "\n",
        "plt.figure(figsize=(14, 10))\n",
        "\n",
        "# Plot Training and Validation Loss\n",
        "plt.subplot(2, 2, 1)\n",
        "plt.plot(epochs, metrics_df['train_loss'], label='Train Loss')\n",
        "plt.plot(epochs, metrics_df['val_loss'], label='Validation Loss')\n",
        "plt.xlabel('Epochs')\n",
        "plt.ylabel('Loss')\n",
        "plt.title('Loss over epochs')\n",
        "plt.legend()\n",
        "\n",
        "# Plot Training and Validation Precision\n",
        "plt.subplot(2, 2, 2)\n",
        "plt.plot(epochs, metrics_df['train_precision'], label='Train Precision')\n",
        "plt.plot(epochs, metrics_df['val_precision'], label='Validation Precision')\n",
        "plt.xlabel('Epochs')\n",
        "plt.ylabel('Precision')\n",
        "plt.title('Precision over epochs')\n",
        "plt.legend()\n",
        "\n",
        "# Plot Training and Validation Recall\n",
        "plt.subplot(2, 2, 3)\n",
        "plt.plot(epochs, metrics_df['train_recall'], label='Train Recall')\n",
        "plt.plot(epochs, metrics_df['val_recall'], label='Validation Recall')\n",
        "plt.xlabel('Epochs')\n",
        "plt.ylabel('Recall')\n",
        "plt.title('Recall over epochs')\n",
        "plt.legend()\n",
        "\n",
        "# Plot Training and Validation F1 Score\n",
        "plt.subplot(2, 2, 4)\n",
        "plt.plot(epochs, metrics_df['train_f1'], label='Train F1 Score')\n",
        "plt.plot(epochs, metrics_df['val_f1'], label='Validation F1 Score')\n",
        "plt.xlabel('Epochs')\n",
        "plt.ylabel('F1 Score')\n",
        "plt.title('F1 Score over epochs')\n",
        "plt.legend()\n",
        "\n",
        "plt.tight_layout()\n",
        "plt.show()\n"
      ]
    },
    {
      "cell_type": "markdown",
      "metadata": {
        "id": "QSfydUlS_c77"
      },
      "source": [
        "## Tache : Near Duplicate Retrieval"
      ]
    },
    {
      "cell_type": "markdown",
      "metadata": {
        "id": "VVpqqxchImU6"
      },
      "source": [
        "##Cross Entropy"
      ]
    },
    {
      "cell_type": "code",
      "execution_count": null,
      "metadata": {
        "id": "ATFpVpbBOcF7"
      },
      "outputs": [],
      "source": [
        "import os\n",
        "import torch\n",
        "import torch.nn as nn\n",
        "import numpy as np\n",
        "from PIL import Image\n",
        "from torchvision import models, transforms\n",
        "from sklearn.decomposition import PCA\n",
        "from sklearn.metrics import ndcg_score\n",
        "from scipy.spatial.distance import cosine\n",
        "import matplotlib.pyplot as plt\n",
        "import csv\n",
        "\n",
        "# Define the TransferLearningModel for embedding extraction\n",
        "class TransferLearningModel(nn.Module):\n",
        "    def __init__(self, num_classes):\n",
        "        super(TransferLearningModel, self).__init__()\n",
        "        self.resnet = models.resnet34(weights=models.ResNet34_Weights.IMAGENET1K_V1)\n",
        "        self.resnet.conv1 = nn.Conv2d(3, 64, kernel_size=7, stride=2, padding=3, bias=False)  # Adjust to accept 3 channels\n",
        "        num_ftrs = self.resnet.fc.in_features\n",
        "        self.resnet.fc = nn.Linear(num_ftrs, num_classes)\n",
        "\n",
        "    def forward(self, x):\n",
        "        return self.resnet(x)\n",
        "\n",
        "# Define a model for embedding extraction\n",
        "class EmbeddingModel(nn.Module):\n",
        "    def __init__(self, resnet_model):\n",
        "        super(EmbeddingModel, self).__init__()\n",
        "        self.resnet = resnet_model\n",
        "        self.resnet.fc = nn.Identity()  # Remove the final classification layer\n",
        "\n",
        "    def forward(self, x):\n",
        "        return self.resnet(x)\n",
        "\n",
        "# Load the mapping CSV file\n",
        "csv_file_path = '/content/drive/MyDrive/near-duplicate-project/prediction/mapping.csv'\n",
        "mapping = {}\n",
        "with open(csv_file_path, mode='r') as file:\n",
        "    reader = csv.reader(file)\n",
        "    next(reader)  # Skip the header\n",
        "    for row in reader:\n",
        "        mapping[row[0]] = row[1]\n",
        "\n",
        "num_classes = len(set(mapping.values()))\n",
        "trained_model = TransferLearningModel(num_classes=50).cuda()\n",
        "trained_model.load_state_dict(torch.load('/content/drive/MyDrive/near-duplicate-project/weight/crossentropy/model_resnet34_25_epochs_crossentropy_v1.pth'))\n",
        "embedding_model = EmbeddingModel(trained_model).cuda()\n",
        "embedding_model.eval()\n",
        "\n",
        "# Define image transformation\n",
        "transform = transforms.Compose([\n",
        "    transforms.Grayscale(num_output_channels=3),\n",
        "    transforms.Resize(400),\n",
        "    transforms.CenterCrop(350),\n",
        "    transforms.ToTensor(),\n",
        "    transforms.Normalize(mean=[0.485, 0.456, 0.406], std=[0.229, 0.224, 0.225])\n",
        "])\n",
        "\n",
        "# Function to load and transform an image\n",
        "def load_image(image_path):\n",
        "    image = Image.open(image_path).convert('RGB')\n",
        "    image = transform(image).unsqueeze(0).cuda()\n",
        "    return image\n",
        "\n",
        "# Function to get image embeddings\n",
        "def get_embeddings(model, image_paths):\n",
        "    embeddings = []\n",
        "    for image_path in image_paths:\n",
        "        image = load_image(image_path)\n",
        "        with torch.no_grad():\n",
        "            embedding = model(image).cpu().numpy().flatten()\n",
        "        embeddings.append(embedding)\n",
        "    return np.array(embeddings)\n",
        "\n",
        "# Define the dataset directory\n",
        "dataset_dir = '/content/drive/MyDrive/near-duplicate-project/clean_dataset/prediction/'\n",
        "\n",
        "# Get the list of image paths and their corresponding classes\n",
        "image_paths = [os.path.join(dataset_dir, os.path.basename(img)) for img in mapping.keys()]\n",
        "classes = [mapping[os.path.basename(image_path)] for image_path in image_paths]\n",
        "\n",
        "# Get embeddings for all images\n",
        "embeddings = get_embeddings(embedding_model, image_paths)\n",
        "\n",
        "# Apply PCA to reduce dimensionality\n",
        "n_components = min(256, embeddings.shape[0], embeddings.shape[1])\n",
        "pca = PCA(n_components=n_components)\n",
        "pca_embeddings = pca.fit_transform(embeddings)\n",
        "\n",
        "# Function to compute cosine similarity\n",
        "def cosine_similarity(a, b):\n",
        "    return 1 - cosine(a, b)\n",
        "\n",
        "# Function to evaluate retrieval performance and display top N similar images\n",
        "def evaluate_retrieval(pca_embeddings, classes, image_paths, top_k=5):\n",
        "    ndcg_scores = []\n",
        "    top_k_accuracies = []\n",
        "\n",
        "    for i in range(len(pca_embeddings)):\n",
        "        query_embedding = pca_embeddings[i]\n",
        "        query_class = classes[i]\n",
        "        similarities = [cosine_similarity(query_embedding, emb) for emb in pca_embeddings]\n",
        "\n",
        "        # Get top k indices excluding the query image itself\n",
        "        top_k_indices = np.argsort(similarities)[::-1][1:top_k+1]\n",
        "        top_k_classes = [classes[idx] for idx in top_k_indices]\n",
        "        top_k_similarities = [similarities[idx] for idx in top_k_indices]\n",
        "\n",
        "        # Ensure the lengths match for nDCG computation\n",
        "        if len(top_k_classes) < top_k:\n",
        "            top_k_classes += [None] * (top_k - len(top_k_classes))\n",
        "            top_k_similarities += [0] * (top_k - len(top_k_similarities))\n",
        "\n",
        "        # Compute top k accuracy\n",
        "        top_k_accuracy = sum(1 for cls in top_k_classes if cls == query_class) / top_k\n",
        "        top_k_accuracies.append(top_k_accuracy)\n",
        "\n",
        "        # Compute nDCG score\n",
        "        true_relevance = [1 if cls == query_class else 0 for cls in top_k_classes]\n",
        "        ndcg = ndcg_score([true_relevance], [top_k_similarities])\n",
        "        ndcg_scores.append(ndcg)\n",
        "\n",
        "        # Display the query image and top N similar images\n",
        "        fig, axes = plt.subplots(1, top_k + 1, figsize=(20, 10))\n",
        "        query_image = Image.open(image_paths[i]).convert('L')\n",
        "        axes[0].imshow(query_image, cmap='gray')\n",
        "        axes[0].set_title(f\"Query Image\\nClass: {query_class}\")\n",
        "        axes[0].axis('off')\n",
        "\n",
        "        for j, idx in enumerate(top_k_indices):\n",
        "            similar_image_path = image_paths[idx]\n",
        "            similar_image = Image.open(similar_image_path).convert('L')\n",
        "            ax = axes[j + 1]\n",
        "            ax.imshow(similar_image, cmap='gray')\n",
        "            ax.set_title(f\"Class: {top_k_classes[j]}\\nScore: {top_k_similarities[j]:.4f}\")\n",
        "            ax.axis('off')\n",
        "        plt.tight_layout()\n",
        "        plt.suptitle(f\"Query: {os.path.basename(image_paths[i])}\")\n",
        "        plt.show()\n",
        "\n",
        "    mean_ndcg = np.mean(ndcg_scores)\n",
        "    mean_top_k_accuracy = np.mean(top_k_accuracies)\n",
        "\n",
        "    return mean_ndcg, mean_top_k_accuracy\n",
        "\n",
        "# Evaluate retrieval performance\n",
        "mean_ndcg, mean_top_k_accuracy = evaluate_retrieval(pca_embeddings, classes, image_paths, top_k=5)\n",
        "\n",
        "print(f\"Mean nDCG: {mean_ndcg:.4f}\")\n",
        "print(f\"Mean Top-5 Accuracy: {mean_top_k_accuracy:.4f}\")\n"
      ]
    },
    {
      "cell_type": "markdown",
      "metadata": {
        "id": "ARglmqI2Ip4y"
      },
      "source": [
        "## Triplet Margin Loss"
      ]
    },
    {
      "cell_type": "code",
      "execution_count": null,
      "metadata": {
        "id": "fxxYXGxEArKI"
      },
      "outputs": [],
      "source": [
        "class TransferLearningModel(nn.Module):\n",
        "    def __init__(self):\n",
        "        super(TransferLearningModel, self).__init__()\n",
        "        self.resnet = models.resnet34(weights=models.ResNet34_Weights.IMAGENET1K_V1)\n",
        "        self.resnet.fc = nn.Sequential(\n",
        "            nn.Linear(self.resnet.fc.in_features, 512),\n",
        "            nn.ReLU(),\n",
        "            nn.Linear(512, 256)\n",
        "        )\n",
        "\n",
        "    def forward(self, x):\n",
        "        return self.resnet(x)\n",
        "\n",
        "class EmbeddingModel(nn.Module):\n",
        "    def __init__(self, resnet_model):\n",
        "        super(EmbeddingModel, self).__init__()\n",
        "        self.resnet = resnet_model\n",
        "        self.resnet.fc = nn.Identity()  # Remove the final classification layer\n",
        "\n",
        "    def forward(self, x):\n",
        "        return self.resnet(x)\n",
        "\n",
        "# Load the mapping CSV file\n",
        "csv_file_path = '/content/drive/MyDrive/near-duplicate-project/prediction/mapping.csv'\n",
        "mapping = {}\n",
        "with open(csv_file_path, mode='r') as file:\n",
        "    reader = csv.reader(file)\n",
        "    next(reader)  # Skip the header\n",
        "    for row in reader:\n",
        "        mapping[row[0]] = row[1]\n",
        "\n",
        "trained_model = TransferLearningModel().cuda()\n",
        "trained_model.load_state_dict(torch.load('/content/drive/MyDrive/near-duplicate-project/weight/triplet/model_resnet34_triplet_25_epochs.pth'))\n",
        "embedding_model = EmbeddingModel(trained_model).cuda()\n",
        "embedding_model.eval()\n",
        "\n",
        "# Define image transformation\n",
        "transform = transforms.Compose([\n",
        "    transforms.Grayscale(num_output_channels=3),\n",
        "    transforms.Resize(400),\n",
        "    transforms.CenterCrop(350),\n",
        "    transforms.ToTensor(),\n",
        "    transforms.Normalize(mean=[0.485, 0.456, 0.406], std=[0.229, 0.224, 0.225])\n",
        "])\n",
        "\n",
        "# Function to load and transform an image\n",
        "def load_image(image_path):\n",
        "    image = Image.open(image_path).convert('RGB')\n",
        "    image = transform(image).unsqueeze(0).cuda()\n",
        "    return image\n",
        "\n",
        "# Function to get image embeddings\n",
        "def get_embeddings(model, image_paths):\n",
        "    embeddings = []\n",
        "    for image_path in image_paths:\n",
        "        image = load_image(image_path)\n",
        "        with torch.no_grad():\n",
        "            embedding = model(image).cpu().numpy().flatten()\n",
        "        embeddings.append(embedding)\n",
        "    return np.array(embeddings)\n",
        "\n",
        "# Define the dataset directory\n",
        "dataset_dir = '/content/drive/MyDrive/near-duplicate-project/clean_dataset/prediction/'\n",
        "\n",
        "# Get the list of image paths and their corresponding classes\n",
        "image_paths = [os.path.join(dataset_dir, os.path.basename(img)) for img in mapping.keys()]\n",
        "classes = [mapping[os.path.basename(image_path)] for image_path in image_paths]\n",
        "\n",
        "# Get embeddings for all images\n",
        "embeddings = get_embeddings(embedding_model, image_paths)\n",
        "\n",
        "# Apply PCA to reduce dimensionality\n",
        "n_components = min(256, embeddings.shape[0], embeddings.shape[1])\n",
        "pca = PCA(n_components=n_components)\n",
        "pca_embeddings = pca.fit_transform(embeddings)\n",
        "\n",
        "# Function to compute cosine similarity\n",
        "def cosine_similarity(a, b):\n",
        "    return 1 - cosine(a, b)\n",
        "\n",
        "# Function to evaluate retrieval performance and display top N similar images\n",
        "def evaluate_retrieval(pca_embeddings, classes, image_paths, top_k=5):\n",
        "    ndcg_scores = []\n",
        "    top_k_accuracies = []\n",
        "\n",
        "    for i in range(len(pca_embeddings)):\n",
        "        query_embedding = pca_embeddings[i]\n",
        "        query_class = classes[i]\n",
        "        similarities = [cosine_similarity(query_embedding, emb) for emb in pca_embeddings]\n",
        "\n",
        "        # Get top k indices excluding the query image itself\n",
        "        top_k_indices = np.argsort(similarities)[::-1][1:top_k+1]\n",
        "        top_k_classes = [classes[idx] for idx in top_k_indices]\n",
        "        top_k_similarities = [similarities[idx] for idx in top_k_indices]\n",
        "\n",
        "        # Ensure the lengths match for nDCG computation\n",
        "        if len(top_k_classes) < top_k:\n",
        "            top_k_classes += [None] * (top_k - len(top_k_classes))\n",
        "            top_k_similarities += [0] * (top_k - len(top_k_similarities))\n",
        "\n",
        "        # Compute top k accuracy\n",
        "        top_k_accuracy = sum(1 for cls in top_k_classes if cls == query_class) / top_k\n",
        "        top_k_accuracies.append(top_k_accuracy)\n",
        "\n",
        "        # Compute nDCG score\n",
        "        true_relevance = [1 if cls == query_class else 0 for cls in top_k_classes]\n",
        "        ndcg = ndcg_score([true_relevance], [top_k_similarities])\n",
        "        ndcg_scores.append(ndcg)\n",
        "\n",
        "        # Display the query image and top N similar images\n",
        "        fig, axes = plt.subplots(1, top_k + 1, figsize=(20, 10))\n",
        "        query_image = Image.open(image_paths[i]).convert('L')\n",
        "        axes[0].imshow(query_image, cmap='gray')\n",
        "        axes[0].set_title(f\"Query Image\\nClass: {query_class}\")\n",
        "        axes[0].axis('off')\n",
        "\n",
        "        for j, idx in enumerate(top_k_indices):\n",
        "            similar_image_path = image_paths[idx]\n",
        "            similar_image = Image.open(similar_image_path).convert('L')\n",
        "            ax = axes[j + 1]\n",
        "            ax.imshow(similar_image, cmap='gray')\n",
        "            ax.set_title(f\"Class: {top_k_classes[j]}\\nScore: {top_k_similarities[j]:.4f}\")\n",
        "            ax.axis('off')\n",
        "        plt.tight_layout()\n",
        "        plt.suptitle(f\"Query: {os.path.basename(image_paths[i])}\")\n",
        "        plt.show()\n",
        "\n",
        "    mean_ndcg = np.mean(ndcg_scores)\n",
        "    mean_top_k_accuracy = np.mean(top_k_accuracies)\n",
        "\n",
        "    return mean_ndcg, mean_top_k_accuracy\n",
        "\n",
        "# Evaluate retrieval performance\n",
        "mean_ndcg, mean_top_k_accuracy = evaluate_retrieval(pca_embeddings, classes, image_paths, top_k=5)\n",
        "\n",
        "print(f\"Mean nDCG: {mean_ndcg:.4f}\")\n",
        "print(f\"Mean Top-5 Accuracy: {mean_top_k_accuracy:.4f}\")\n"
      ]
    }
  ],
  "metadata": {
    "accelerator": "GPU",
    "colab": {
      "gpuType": "L4",
      "machine_shape": "hm",
      "provenance": [],
      "collapsed_sections": [
        "qVqI3R8qmI4j",
        "0Gtvfo5Z8Kio",
        "TYXUiXbAp9K6",
        "GmVEGswk-zJ2"
      ]
    },
    "kernelspec": {
      "display_name": "Python 3",
      "name": "python3"
    },
    "language_info": {
      "name": "python"
    }
  },
  "nbformat": 4,
  "nbformat_minor": 0
}